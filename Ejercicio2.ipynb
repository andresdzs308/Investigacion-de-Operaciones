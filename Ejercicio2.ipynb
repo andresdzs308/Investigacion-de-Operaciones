{
  "nbformat": 4,
  "nbformat_minor": 0,
  "metadata": {
    "colab": {
      "provenance": []
    },
    "kernelspec": {
      "name": "python3",
      "display_name": "Python 3"
    },
    "language_info": {
      "name": "python"
    }
  },
  "cells": [
    {
      "cell_type": "code",
      "execution_count": 40,
      "metadata": {
        "colab": {
          "base_uri": "https://localhost:8080/"
        },
        "id": "TYQWV6IWAhPI",
        "outputId": "edf0eb1e-f70a-495d-9fb3-dde25b7cd0f8"
      },
      "outputs": [
        {
          "output_type": "stream",
          "name": "stdout",
          "text": [
            "Valor óptimo 1 225.0 Solución óptima 1  x=  35.0 y=  15.0\n",
            "Valor óptimo 2 225.0 Solución óptima 2  x=  35.0 y=  15.0\n",
            "Diferencia valor óptimo 0.0 Diferencia en x= 0.0 Diferencia en y= 0.0\n"
          ]
        }
      ],
      "source": [
        "from scipy.optimize import linprog\n",
        "c = [3, 8] #Coeficientes función objetivo\n",
        "A= [[-1, -1], [1, -1]] #Coeficientes de restricciones\n",
        "b= [-50, 20] #Constantes de restricciones\n",
        "bounds = [(0, None), (0, None)] #Restrcciones de variables para que sean mayores que cero\n",
        "resultado1=linprog(c,A_ub=A, b_ub=b, bounds=bounds,method=\"simplex\")\n",
        "print(\"Valor óptimo 1\", resultado1.fun, \"Solución óptima 1 \",\"x= \", resultado1.x[0], \"y= \", resultado1.x[1])\n",
        "\n",
        "resultado2 = linprog(c, A_ub, b_ub, bounds=bounds, method=\"revised simplex\")\n",
        "print(\"Valor óptimo 2\", resultado2.fun, \"Solución óptima 2 \",\"x= \",resultado2.x[0], \"y= \", resultado2.x[1])\n",
        "\n",
        "print(\"Diferencia valor óptimo\", resultado1.fun-resultado2.fun, \"Diferencia en x=\", resultado1.x[0]-resultado2.x[0], \"Diferencia en y=\", resultado1.x[1]-resultado2.x[1])\n"
      ]
    }
  ]
}